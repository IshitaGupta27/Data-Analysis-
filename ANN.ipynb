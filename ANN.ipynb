{
  "nbformat": 4,
  "nbformat_minor": 0,
  "metadata": {
    "colab": {
      "name": "ANN.ipynb",
      "provenance": []
    },
    "kernelspec": {
      "name": "python3",
      "display_name": "Python 3"
    }
  },
  "cells": [
    {
      "cell_type": "code",
      "metadata": {
        "id": "LVBb64V-syua"
      },
      "source": [
        "import pandas as pd\n",
        "path='/content/drive/My Drive/Colab Notebooks/car.csv'\n",
        "df = pd.read_csv(path,sep=',',encoding='ISO-8859-1')"
      ],
      "execution_count": 76,
      "outputs": []
    },
    {
      "cell_type": "code",
      "metadata": {
        "id": "0BUeBtndtunU"
      },
      "source": [
        "import tensorflow as tf\n",
        "import keras\n",
        "from sklearn.model_selection import train_test_split\n",
        "from sklearn.preprocessing import MinMaxScaler\n",
        "import numpy as np\n",
        "from sklearn import preprocessing"
      ],
      "execution_count": 77,
      "outputs": []
    },
    {
      "cell_type": "code",
      "metadata": {
        "id": "WfRGymrMurzp"
      },
      "source": [
        "X=df.values[:,3:-1]\n",
        "y=df.values[:,-1]"
      ],
      "execution_count": 78,
      "outputs": []
    },
    {
      "cell_type": "code",
      "metadata": {
        "id": "1ifytU-TyHKR",
        "outputId": "420863a8-7b5b-4934-8755-69fd4ca154a8",
        "colab": {
          "base_uri": "https://localhost:8080/"
        }
      },
      "source": [
        "min_max_scaler=preprocessing.MinMaxScaler()\n",
        "x_scale=min_max_scaler.fit_transform(X)\n",
        "x_scale"
      ],
      "execution_count": 79,
      "outputs": [
        {
          "output_type": "execute_result",
          "data": {
            "text/plain": [
              "array([[0.        , 0.4370344 , 0.53515116, 0.57836085, 0.22342985],\n",
              "       [0.        , 0.41741247, 0.58308616, 0.476028  , 0.52140195],\n",
              "       [1.        , 0.46305795, 0.42248189, 0.55579674, 0.63108896],\n",
              "       ...,\n",
              "       [1.        , 0.67886994, 0.61110973, 0.52822145, 0.75972584],\n",
              "       [1.        , 0.78321017, 0.37264988, 0.69914746, 0.3243129 ],\n",
              "       [1.        , 0.53462305, 0.51713347, 0.46690159, 0.45198622]])"
            ]
          },
          "metadata": {
            "tags": []
          },
          "execution_count": 79
        }
      ]
    },
    {
      "cell_type": "code",
      "metadata": {
        "id": "flnztEEdzFIY"
      },
      "source": [
        "X_train, X_test, y_train, y_test = train_test_split(x_scale,y, test_size=0.3)\n",
        "X_train = np.asarray(X_train).astype(np.float32)\n",
        "X_test = np.asarray(X_test).astype(np.float32)\n",
        "y_train = np.asarray(y_train).astype(np.float32)\n",
        "y_test = np.asarray(y_test).astype(np.float32)"
      ],
      "execution_count": 80,
      "outputs": []
    },
    {
      "cell_type": "code",
      "metadata": {
        "id": "dgrU8aI7zFbs",
        "outputId": "9dcfdf76-1b7a-41d3-ba0f-c489a7139e6d",
        "colab": {
          "base_uri": "https://localhost:8080/"
        }
      },
      "source": [
        "# For building the Neural Network layer by layer\n",
        "\n",
        "from keras.models import Sequential\n",
        "#To randomly initialize the weights to small numbers close to 0(But not 0)\n",
        "\n",
        "from keras.layers import Dense\n",
        "#Initializing the ANN…\n",
        "\n",
        "classifier = Sequential()\n",
        "#Adding the input layer and the first hidden layer…\n",
        "\n",
        "classifier.add(Dense(375, activation = 'relu',input_shape=[5]))\n",
        "#Adding the second hidden layer…\n",
        "\n",
        "classifier.add(Dense(200, activation = 'relu'))\n",
        "#Adding the third hidden layer…\n",
        "\n",
        "classifier.add(Dense(100, activation = 'relu'))\n",
        "#Adding the output layer…\n",
        "\n",
        "classifier.add(Dense(1, activation = 'sigmoid'))\n",
        "#Compiling the ANN…\n",
        "\n",
        "classifier.compile(optimizer = 'adam', loss = 'mae', metrics=['mse', 'mae', 'mape'])\n",
        "# Fitting the ANN to the Training set\n",
        "history = classifier.fit(\n",
        "    x=X_train, y=y_train,\n",
        "    validation_data=(X_test,y_test),\n",
        "    batch_size=375,\n",
        "    epochs=100,\n",
        ")"
      ],
      "execution_count": 81,
      "outputs": [
        {
          "output_type": "stream",
          "text": [
            "Epoch 1/100\n",
            "1/1 [==============================] - 0s 160ms/step - loss: 43955.8672 - mse: 2038168832.0000 - mae: 43955.8672 - mape: 99.9988 - val_loss: 44800.5781 - val_mse: 2145237760.0000 - val_mae: 44800.5781 - val_mape: 99.9986\n",
            "Epoch 2/100\n",
            "1/1 [==============================] - 0s 22ms/step - loss: 43955.8242 - mse: 2038165504.0000 - mae: 43955.8242 - mape: 99.9987 - val_loss: 44800.5391 - val_mse: 2145234432.0000 - val_mae: 44800.5391 - val_mape: 99.9986\n",
            "Epoch 3/100\n",
            "1/1 [==============================] - 0s 23ms/step - loss: 43955.7891 - mse: 2038161920.0000 - mae: 43955.7891 - mape: 99.9986 - val_loss: 44800.5078 - val_mse: 2145230976.0000 - val_mae: 44800.5078 - val_mape: 99.9985\n",
            "Epoch 4/100\n",
            "1/1 [==============================] - 0s 28ms/step - loss: 43955.7500 - mse: 2038158976.0000 - mae: 43955.7500 - mape: 99.9985 - val_loss: 44800.4648 - val_mse: 2145227520.0000 - val_mae: 44800.4648 - val_mape: 99.9984\n",
            "Epoch 5/100\n",
            "1/1 [==============================] - 0s 23ms/step - loss: 43955.7148 - mse: 2038155392.0000 - mae: 43955.7148 - mape: 99.9984 - val_loss: 44800.4297 - val_mse: 2145223552.0000 - val_mae: 44800.4297 - val_mape: 99.9983\n",
            "Epoch 6/100\n",
            "1/1 [==============================] - 0s 23ms/step - loss: 43955.6758 - mse: 2038151680.0000 - mae: 43955.6758 - mape: 99.9983 - val_loss: 44800.3828 - val_mse: 2145219840.0000 - val_mae: 44800.3828 - val_mape: 99.9982\n",
            "Epoch 7/100\n",
            "1/1 [==============================] - 0s 23ms/step - loss: 43955.6289 - mse: 2038148224.0000 - mae: 43955.6289 - mape: 99.9982 - val_loss: 44800.3398 - val_mse: 2145216128.0000 - val_mae: 44800.3398 - val_mape: 99.9981\n",
            "Epoch 8/100\n",
            "1/1 [==============================] - 0s 26ms/step - loss: 43955.5898 - mse: 2038144384.0000 - mae: 43955.5898 - mape: 99.9981 - val_loss: 44800.2969 - val_mse: 2145212160.0000 - val_mae: 44800.2969 - val_mape: 99.9980\n",
            "Epoch 9/100\n",
            "1/1 [==============================] - 0s 23ms/step - loss: 43955.5469 - mse: 2038140544.0000 - mae: 43955.5469 - mape: 99.9980 - val_loss: 44800.2617 - val_mse: 2145208832.0000 - val_mae: 44800.2617 - val_mape: 99.9979\n",
            "Epoch 10/100\n",
            "1/1 [==============================] - 0s 31ms/step - loss: 43955.5078 - mse: 2038137216.0000 - mae: 43955.5078 - mape: 99.9979 - val_loss: 44800.2266 - val_mse: 2145205888.0000 - val_mae: 44800.2266 - val_mape: 99.9978\n",
            "Epoch 11/100\n",
            "1/1 [==============================] - 0s 26ms/step - loss: 43955.4727 - mse: 2038134272.0000 - mae: 43955.4727 - mape: 99.9978 - val_loss: 44800.1992 - val_mse: 2145203456.0000 - val_mae: 44800.1992 - val_mape: 99.9977\n",
            "Epoch 12/100\n",
            "1/1 [==============================] - 0s 24ms/step - loss: 43955.4453 - mse: 2038131840.0000 - mae: 43955.4453 - mape: 99.9978 - val_loss: 44800.1797 - val_mse: 2145201280.0000 - val_mae: 44800.1797 - val_mape: 99.9977\n",
            "Epoch 13/100\n",
            "1/1 [==============================] - 0s 24ms/step - loss: 43955.4219 - mse: 2038130048.0000 - mae: 43955.4219 - mape: 99.9977 - val_loss: 44800.1602 - val_mse: 2145200000.0000 - val_mae: 44800.1602 - val_mape: 99.9976\n",
            "Epoch 14/100\n",
            "1/1 [==============================] - 0s 23ms/step - loss: 43955.4102 - mse: 2038128768.0000 - mae: 43955.4102 - mape: 99.9976 - val_loss: 44800.1484 - val_mse: 2145199104.0000 - val_mae: 44800.1484 - val_mape: 99.9976\n",
            "Epoch 15/100\n",
            "1/1 [==============================] - 0s 25ms/step - loss: 43955.3984 - mse: 2038127616.0000 - mae: 43955.3984 - mape: 99.9976 - val_loss: 44800.1367 - val_mse: 2145198592.0000 - val_mae: 44800.1367 - val_mape: 99.9976\n",
            "Epoch 16/100\n",
            "1/1 [==============================] - 0s 27ms/step - loss: 43955.3867 - mse: 2038127104.0000 - mae: 43955.3867 - mape: 99.9976 - val_loss: 44800.1367 - val_mse: 2145198208.0000 - val_mae: 44800.1367 - val_mape: 99.9976\n",
            "Epoch 17/100\n",
            "1/1 [==============================] - 0s 24ms/step - loss: 43955.3789 - mse: 2038126720.0000 - mae: 43955.3789 - mape: 99.9976 - val_loss: 44800.1289 - val_mse: 2145197696.0000 - val_mae: 44800.1289 - val_mape: 99.9976\n",
            "Epoch 18/100\n",
            "1/1 [==============================] - 0s 25ms/step - loss: 43955.3789 - mse: 2038126208.0000 - mae: 43955.3789 - mape: 99.9976 - val_loss: 44800.1289 - val_mse: 2145197312.0000 - val_mae: 44800.1289 - val_mape: 99.9975\n",
            "Epoch 19/100\n",
            "1/1 [==============================] - 0s 23ms/step - loss: 43955.3789 - mse: 2038125952.0000 - mae: 43955.3789 - mape: 99.9976 - val_loss: 44800.1289 - val_mse: 2145197056.0000 - val_mae: 44800.1289 - val_mape: 99.9975\n",
            "Epoch 20/100\n",
            "1/1 [==============================] - 0s 41ms/step - loss: 43955.3750 - mse: 2038125952.0000 - mae: 43955.3750 - mape: 99.9976 - val_loss: 44800.1289 - val_mse: 2145197056.0000 - val_mae: 44800.1289 - val_mape: 99.9975\n",
            "Epoch 21/100\n",
            "1/1 [==============================] - 0s 27ms/step - loss: 43955.3789 - mse: 2038125824.0000 - mae: 43955.3789 - mape: 99.9976 - val_loss: 44800.1250 - val_mse: 2145197056.0000 - val_mae: 44800.1250 - val_mape: 99.9975\n",
            "Epoch 22/100\n",
            "1/1 [==============================] - 0s 28ms/step - loss: 43955.3789 - mse: 2038125824.0000 - mae: 43955.3789 - mape: 99.9976 - val_loss: 44800.1250 - val_mse: 2145197056.0000 - val_mae: 44800.1250 - val_mape: 99.9975\n",
            "Epoch 23/100\n",
            "1/1 [==============================] - 0s 28ms/step - loss: 43955.3711 - mse: 2038125824.0000 - mae: 43955.3711 - mape: 99.9976 - val_loss: 44800.1250 - val_mse: 2145197056.0000 - val_mae: 44800.1250 - val_mape: 99.9975\n",
            "Epoch 24/100\n",
            "1/1 [==============================] - 0s 30ms/step - loss: 43955.3711 - mse: 2038125824.0000 - mae: 43955.3711 - mape: 99.9976 - val_loss: 44800.1250 - val_mse: 2145197056.0000 - val_mae: 44800.1250 - val_mape: 99.9975\n",
            "Epoch 25/100\n",
            "1/1 [==============================] - 0s 27ms/step - loss: 43955.3750 - mse: 2038125824.0000 - mae: 43955.3750 - mape: 99.9976 - val_loss: 44800.1250 - val_mse: 2145197056.0000 - val_mae: 44800.1250 - val_mape: 99.9975\n",
            "Epoch 26/100\n",
            "1/1 [==============================] - 0s 25ms/step - loss: 43955.3711 - mse: 2038125824.0000 - mae: 43955.3711 - mape: 99.9976 - val_loss: 44800.1250 - val_mse: 2145197056.0000 - val_mae: 44800.1250 - val_mape: 99.9975\n",
            "Epoch 27/100\n",
            "1/1 [==============================] - 0s 36ms/step - loss: 43955.3750 - mse: 2038125824.0000 - mae: 43955.3750 - mape: 99.9976 - val_loss: 44800.1250 - val_mse: 2145197056.0000 - val_mae: 44800.1250 - val_mape: 99.9975\n",
            "Epoch 28/100\n",
            "1/1 [==============================] - 0s 26ms/step - loss: 43955.3711 - mse: 2038125568.0000 - mae: 43955.3711 - mape: 99.9976 - val_loss: 44800.1250 - val_mse: 2145197056.0000 - val_mae: 44800.1250 - val_mape: 99.9975\n",
            "Epoch 29/100\n",
            "1/1 [==============================] - 0s 27ms/step - loss: 43955.3711 - mse: 2038125824.0000 - mae: 43955.3711 - mape: 99.9976 - val_loss: 44800.1250 - val_mse: 2145197056.0000 - val_mae: 44800.1250 - val_mape: 99.9975\n",
            "Epoch 30/100\n",
            "1/1 [==============================] - 0s 27ms/step - loss: 43955.3750 - mse: 2038125568.0000 - mae: 43955.3750 - mape: 99.9976 - val_loss: 44800.1250 - val_mse: 2145197056.0000 - val_mae: 44800.1250 - val_mape: 99.9975\n",
            "Epoch 31/100\n",
            "1/1 [==============================] - 0s 27ms/step - loss: 43955.3789 - mse: 2038125824.0000 - mae: 43955.3789 - mape: 99.9976 - val_loss: 44800.1250 - val_mse: 2145197056.0000 - val_mae: 44800.1250 - val_mape: 99.9975\n",
            "Epoch 32/100\n",
            "1/1 [==============================] - 0s 27ms/step - loss: 43955.3750 - mse: 2038125824.0000 - mae: 43955.3750 - mape: 99.9976 - val_loss: 44800.1250 - val_mse: 2145197056.0000 - val_mae: 44800.1250 - val_mape: 99.9975\n",
            "Epoch 33/100\n",
            "1/1 [==============================] - 0s 25ms/step - loss: 43955.3789 - mse: 2038125824.0000 - mae: 43955.3789 - mape: 99.9976 - val_loss: 44800.1250 - val_mse: 2145197056.0000 - val_mae: 44800.1250 - val_mape: 99.9975\n",
            "Epoch 34/100\n",
            "1/1 [==============================] - 0s 25ms/step - loss: 43955.3750 - mse: 2038125952.0000 - mae: 43955.3750 - mape: 99.9976 - val_loss: 44800.1250 - val_mse: 2145197056.0000 - val_mae: 44800.1250 - val_mape: 99.9975\n",
            "Epoch 35/100\n",
            "1/1 [==============================] - 0s 24ms/step - loss: 43955.3750 - mse: 2038125824.0000 - mae: 43955.3750 - mape: 99.9976 - val_loss: 44800.1250 - val_mse: 2145197056.0000 - val_mae: 44800.1250 - val_mape: 99.9975\n",
            "Epoch 36/100\n",
            "1/1 [==============================] - 0s 30ms/step - loss: 43955.3789 - mse: 2038125568.0000 - mae: 43955.3789 - mape: 99.9976 - val_loss: 44800.1250 - val_mse: 2145197056.0000 - val_mae: 44800.1250 - val_mape: 99.9975\n",
            "Epoch 37/100\n",
            "1/1 [==============================] - 0s 24ms/step - loss: 43955.3711 - mse: 2038125824.0000 - mae: 43955.3711 - mape: 99.9976 - val_loss: 44800.1250 - val_mse: 2145197056.0000 - val_mae: 44800.1250 - val_mape: 99.9975\n",
            "Epoch 38/100\n",
            "1/1 [==============================] - 0s 27ms/step - loss: 43955.3750 - mse: 2038125824.0000 - mae: 43955.3750 - mape: 99.9976 - val_loss: 44800.1250 - val_mse: 2145197056.0000 - val_mae: 44800.1250 - val_mape: 99.9975\n",
            "Epoch 39/100\n",
            "1/1 [==============================] - 0s 24ms/step - loss: 43955.3711 - mse: 2038125824.0000 - mae: 43955.3711 - mape: 99.9976 - val_loss: 44800.1250 - val_mse: 2145197056.0000 - val_mae: 44800.1250 - val_mape: 99.9975\n",
            "Epoch 40/100\n",
            "1/1 [==============================] - 0s 23ms/step - loss: 43955.3750 - mse: 2038125824.0000 - mae: 43955.3750 - mape: 99.9976 - val_loss: 44800.1250 - val_mse: 2145197056.0000 - val_mae: 44800.1250 - val_mape: 99.9975\n",
            "Epoch 41/100\n",
            "1/1 [==============================] - 0s 23ms/step - loss: 43955.3750 - mse: 2038125824.0000 - mae: 43955.3750 - mape: 99.9976 - val_loss: 44800.1250 - val_mse: 2145197056.0000 - val_mae: 44800.1250 - val_mape: 99.9975\n",
            "Epoch 42/100\n",
            "1/1 [==============================] - 0s 24ms/step - loss: 43955.3711 - mse: 2038125824.0000 - mae: 43955.3711 - mape: 99.9976 - val_loss: 44800.1250 - val_mse: 2145197056.0000 - val_mae: 44800.1250 - val_mape: 99.9975\n",
            "Epoch 43/100\n",
            "1/1 [==============================] - 0s 27ms/step - loss: 43955.3750 - mse: 2038125824.0000 - mae: 43955.3750 - mape: 99.9976 - val_loss: 44800.1250 - val_mse: 2145197056.0000 - val_mae: 44800.1250 - val_mape: 99.9975\n",
            "Epoch 44/100\n",
            "1/1 [==============================] - 0s 26ms/step - loss: 43955.3750 - mse: 2038125824.0000 - mae: 43955.3750 - mape: 99.9976 - val_loss: 44800.1250 - val_mse: 2145197056.0000 - val_mae: 44800.1250 - val_mape: 99.9975\n",
            "Epoch 45/100\n",
            "1/1 [==============================] - 0s 23ms/step - loss: 43955.3750 - mse: 2038125568.0000 - mae: 43955.3750 - mape: 99.9976 - val_loss: 44800.1250 - val_mse: 2145197056.0000 - val_mae: 44800.1250 - val_mape: 99.9975\n",
            "Epoch 46/100\n",
            "1/1 [==============================] - 0s 23ms/step - loss: 43955.3750 - mse: 2038125824.0000 - mae: 43955.3750 - mape: 99.9976 - val_loss: 44800.1250 - val_mse: 2145197056.0000 - val_mae: 44800.1250 - val_mape: 99.9975\n",
            "Epoch 47/100\n",
            "1/1 [==============================] - 0s 24ms/step - loss: 43955.3750 - mse: 2038125568.0000 - mae: 43955.3750 - mape: 99.9976 - val_loss: 44800.1250 - val_mse: 2145197056.0000 - val_mae: 44800.1250 - val_mape: 99.9975\n",
            "Epoch 48/100\n",
            "1/1 [==============================] - 0s 24ms/step - loss: 43955.3711 - mse: 2038125824.0000 - mae: 43955.3711 - mape: 99.9976 - val_loss: 44800.1250 - val_mse: 2145197056.0000 - val_mae: 44800.1250 - val_mape: 99.9975\n",
            "Epoch 49/100\n",
            "1/1 [==============================] - 0s 26ms/step - loss: 43955.3789 - mse: 2038125568.0000 - mae: 43955.3789 - mape: 99.9976 - val_loss: 44800.1250 - val_mse: 2145197056.0000 - val_mae: 44800.1250 - val_mape: 99.9975\n",
            "Epoch 50/100\n",
            "1/1 [==============================] - 0s 36ms/step - loss: 43955.3750 - mse: 2038125568.0000 - mae: 43955.3750 - mape: 99.9976 - val_loss: 44800.1250 - val_mse: 2145197056.0000 - val_mae: 44800.1250 - val_mape: 99.9975\n",
            "Epoch 51/100\n",
            "1/1 [==============================] - 0s 27ms/step - loss: 43955.3750 - mse: 2038125568.0000 - mae: 43955.3750 - mape: 99.9976 - val_loss: 44800.1250 - val_mse: 2145197056.0000 - val_mae: 44800.1250 - val_mape: 99.9975\n",
            "Epoch 52/100\n",
            "1/1 [==============================] - 0s 24ms/step - loss: 43955.3750 - mse: 2038125824.0000 - mae: 43955.3750 - mape: 99.9976 - val_loss: 44800.1250 - val_mse: 2145197056.0000 - val_mae: 44800.1250 - val_mape: 99.9975\n",
            "Epoch 53/100\n",
            "1/1 [==============================] - 0s 24ms/step - loss: 43955.3750 - mse: 2038125824.0000 - mae: 43955.3750 - mape: 99.9976 - val_loss: 44800.1250 - val_mse: 2145197056.0000 - val_mae: 44800.1250 - val_mape: 99.9975\n",
            "Epoch 54/100\n",
            "1/1 [==============================] - 0s 25ms/step - loss: 43955.3750 - mse: 2038125568.0000 - mae: 43955.3750 - mape: 99.9976 - val_loss: 44800.1250 - val_mse: 2145197056.0000 - val_mae: 44800.1250 - val_mape: 99.9975\n",
            "Epoch 55/100\n",
            "1/1 [==============================] - 0s 24ms/step - loss: 43955.3750 - mse: 2038125824.0000 - mae: 43955.3750 - mape: 99.9976 - val_loss: 44800.1250 - val_mse: 2145197056.0000 - val_mae: 44800.1250 - val_mape: 99.9975\n",
            "Epoch 56/100\n",
            "1/1 [==============================] - 0s 26ms/step - loss: 43955.3750 - mse: 2038125824.0000 - mae: 43955.3750 - mape: 99.9976 - val_loss: 44800.1250 - val_mse: 2145197056.0000 - val_mae: 44800.1250 - val_mape: 99.9975\n",
            "Epoch 57/100\n",
            "1/1 [==============================] - 0s 25ms/step - loss: 43955.3711 - mse: 2038125824.0000 - mae: 43955.3711 - mape: 99.9976 - val_loss: 44800.1250 - val_mse: 2145197056.0000 - val_mae: 44800.1250 - val_mape: 99.9975\n",
            "Epoch 58/100\n",
            "1/1 [==============================] - 0s 28ms/step - loss: 43955.3711 - mse: 2038125952.0000 - mae: 43955.3711 - mape: 99.9976 - val_loss: 44800.1250 - val_mse: 2145197056.0000 - val_mae: 44800.1250 - val_mape: 99.9975\n",
            "Epoch 59/100\n",
            "1/1 [==============================] - 0s 27ms/step - loss: 43955.3750 - mse: 2038125824.0000 - mae: 43955.3750 - mape: 99.9976 - val_loss: 44800.1250 - val_mse: 2145197056.0000 - val_mae: 44800.1250 - val_mape: 99.9975\n",
            "Epoch 60/100\n",
            "1/1 [==============================] - 0s 26ms/step - loss: 43955.3711 - mse: 2038125824.0000 - mae: 43955.3711 - mape: 99.9976 - val_loss: 44800.1250 - val_mse: 2145197056.0000 - val_mae: 44800.1250 - val_mape: 99.9975\n",
            "Epoch 61/100\n",
            "1/1 [==============================] - 0s 24ms/step - loss: 43955.3750 - mse: 2038125568.0000 - mae: 43955.3750 - mape: 99.9976 - val_loss: 44800.1250 - val_mse: 2145197056.0000 - val_mae: 44800.1250 - val_mape: 99.9975\n",
            "Epoch 62/100\n",
            "1/1 [==============================] - 0s 22ms/step - loss: 43955.3750 - mse: 2038125824.0000 - mae: 43955.3750 - mape: 99.9976 - val_loss: 44800.1250 - val_mse: 2145197056.0000 - val_mae: 44800.1250 - val_mape: 99.9975\n",
            "Epoch 63/100\n",
            "1/1 [==============================] - 0s 24ms/step - loss: 43955.3750 - mse: 2038125568.0000 - mae: 43955.3750 - mape: 99.9976 - val_loss: 44800.1250 - val_mse: 2145197056.0000 - val_mae: 44800.1250 - val_mape: 99.9975\n",
            "Epoch 64/100\n",
            "1/1 [==============================] - 0s 26ms/step - loss: 43955.3750 - mse: 2038125824.0000 - mae: 43955.3750 - mape: 99.9976 - val_loss: 44800.1250 - val_mse: 2145197056.0000 - val_mae: 44800.1250 - val_mape: 99.9975\n",
            "Epoch 65/100\n",
            "1/1 [==============================] - 0s 24ms/step - loss: 43955.3711 - mse: 2038125824.0000 - mae: 43955.3711 - mape: 99.9976 - val_loss: 44800.1250 - val_mse: 2145197056.0000 - val_mae: 44800.1250 - val_mape: 99.9975\n",
            "Epoch 66/100\n",
            "1/1 [==============================] - 0s 30ms/step - loss: 43955.3750 - mse: 2038125824.0000 - mae: 43955.3750 - mape: 99.9976 - val_loss: 44800.1250 - val_mse: 2145197056.0000 - val_mae: 44800.1250 - val_mape: 99.9975\n",
            "Epoch 67/100\n",
            "1/1 [==============================] - 0s 30ms/step - loss: 43955.3750 - mse: 2038125952.0000 - mae: 43955.3750 - mape: 99.9976 - val_loss: 44800.1250 - val_mse: 2145197056.0000 - val_mae: 44800.1250 - val_mape: 99.9975\n",
            "Epoch 68/100\n",
            "1/1 [==============================] - 0s 30ms/step - loss: 43955.3750 - mse: 2038125824.0000 - mae: 43955.3750 - mape: 99.9976 - val_loss: 44800.1250 - val_mse: 2145197056.0000 - val_mae: 44800.1250 - val_mape: 99.9975\n",
            "Epoch 69/100\n",
            "1/1 [==============================] - 0s 25ms/step - loss: 43955.3750 - mse: 2038125952.0000 - mae: 43955.3750 - mape: 99.9976 - val_loss: 44800.1250 - val_mse: 2145197056.0000 - val_mae: 44800.1250 - val_mape: 99.9975\n",
            "Epoch 70/100\n",
            "1/1 [==============================] - 0s 28ms/step - loss: 43955.3711 - mse: 2038125952.0000 - mae: 43955.3711 - mape: 99.9976 - val_loss: 44800.1250 - val_mse: 2145197056.0000 - val_mae: 44800.1250 - val_mape: 99.9975\n",
            "Epoch 71/100\n",
            "1/1 [==============================] - 0s 25ms/step - loss: 43955.3750 - mse: 2038125824.0000 - mae: 43955.3750 - mape: 99.9976 - val_loss: 44800.1250 - val_mse: 2145197056.0000 - val_mae: 44800.1250 - val_mape: 99.9975\n",
            "Epoch 72/100\n",
            "1/1 [==============================] - 0s 27ms/step - loss: 43955.3750 - mse: 2038125824.0000 - mae: 43955.3750 - mape: 99.9976 - val_loss: 44800.1250 - val_mse: 2145197056.0000 - val_mae: 44800.1250 - val_mape: 99.9975\n",
            "Epoch 73/100\n",
            "1/1 [==============================] - 0s 37ms/step - loss: 43955.3789 - mse: 2038125824.0000 - mae: 43955.3789 - mape: 99.9976 - val_loss: 44800.1250 - val_mse: 2145197056.0000 - val_mae: 44800.1250 - val_mape: 99.9975\n",
            "Epoch 74/100\n",
            "1/1 [==============================] - 0s 29ms/step - loss: 43955.3711 - mse: 2038125824.0000 - mae: 43955.3711 - mape: 99.9976 - val_loss: 44800.1250 - val_mse: 2145197056.0000 - val_mae: 44800.1250 - val_mape: 99.9975\n",
            "Epoch 75/100\n",
            "1/1 [==============================] - 0s 28ms/step - loss: 43955.3711 - mse: 2038125824.0000 - mae: 43955.3711 - mape: 99.9976 - val_loss: 44800.1250 - val_mse: 2145197056.0000 - val_mae: 44800.1250 - val_mape: 99.9975\n",
            "Epoch 76/100\n",
            "1/1 [==============================] - 0s 28ms/step - loss: 43955.3750 - mse: 2038125824.0000 - mae: 43955.3750 - mape: 99.9976 - val_loss: 44800.1250 - val_mse: 2145197056.0000 - val_mae: 44800.1250 - val_mape: 99.9975\n",
            "Epoch 77/100\n",
            "1/1 [==============================] - 0s 29ms/step - loss: 43955.3750 - mse: 2038125824.0000 - mae: 43955.3750 - mape: 99.9976 - val_loss: 44800.1250 - val_mse: 2145197056.0000 - val_mae: 44800.1250 - val_mape: 99.9975\n",
            "Epoch 78/100\n",
            "1/1 [==============================] - 0s 27ms/step - loss: 43955.3711 - mse: 2038125824.0000 - mae: 43955.3711 - mape: 99.9976 - val_loss: 44800.1250 - val_mse: 2145197056.0000 - val_mae: 44800.1250 - val_mape: 99.9975\n",
            "Epoch 79/100\n",
            "1/1 [==============================] - 0s 28ms/step - loss: 43955.3711 - mse: 2038125824.0000 - mae: 43955.3711 - mape: 99.9976 - val_loss: 44800.1250 - val_mse: 2145197056.0000 - val_mae: 44800.1250 - val_mape: 99.9975\n",
            "Epoch 80/100\n",
            "1/1 [==============================] - 0s 30ms/step - loss: 43955.3750 - mse: 2038125952.0000 - mae: 43955.3750 - mape: 99.9976 - val_loss: 44800.1250 - val_mse: 2145197056.0000 - val_mae: 44800.1250 - val_mape: 99.9975\n",
            "Epoch 81/100\n",
            "1/1 [==============================] - 0s 27ms/step - loss: 43955.3750 - mse: 2038125824.0000 - mae: 43955.3750 - mape: 99.9976 - val_loss: 44800.1250 - val_mse: 2145197056.0000 - val_mae: 44800.1250 - val_mape: 99.9975\n",
            "Epoch 82/100\n",
            "1/1 [==============================] - 0s 26ms/step - loss: 43955.3711 - mse: 2038125824.0000 - mae: 43955.3711 - mape: 99.9976 - val_loss: 44800.1250 - val_mse: 2145197056.0000 - val_mae: 44800.1250 - val_mape: 99.9975\n",
            "Epoch 83/100\n",
            "1/1 [==============================] - 0s 24ms/step - loss: 43955.3750 - mse: 2038125824.0000 - mae: 43955.3750 - mape: 99.9976 - val_loss: 44800.1250 - val_mse: 2145197056.0000 - val_mae: 44800.1250 - val_mape: 99.9975\n",
            "Epoch 84/100\n",
            "1/1 [==============================] - 0s 25ms/step - loss: 43955.3711 - mse: 2038125824.0000 - mae: 43955.3711 - mape: 99.9976 - val_loss: 44800.1250 - val_mse: 2145197056.0000 - val_mae: 44800.1250 - val_mape: 99.9975\n",
            "Epoch 85/100\n",
            "1/1 [==============================] - 0s 28ms/step - loss: 43955.3750 - mse: 2038125824.0000 - mae: 43955.3750 - mape: 99.9976 - val_loss: 44800.1250 - val_mse: 2145197056.0000 - val_mae: 44800.1250 - val_mape: 99.9975\n",
            "Epoch 86/100\n",
            "1/1 [==============================] - 0s 25ms/step - loss: 43955.3750 - mse: 2038125824.0000 - mae: 43955.3750 - mape: 99.9976 - val_loss: 44800.1250 - val_mse: 2145197056.0000 - val_mae: 44800.1250 - val_mape: 99.9975\n",
            "Epoch 87/100\n",
            "1/1 [==============================] - 0s 24ms/step - loss: 43955.3711 - mse: 2038125824.0000 - mae: 43955.3711 - mape: 99.9976 - val_loss: 44800.1250 - val_mse: 2145197056.0000 - val_mae: 44800.1250 - val_mape: 99.9975\n",
            "Epoch 88/100\n",
            "1/1 [==============================] - 0s 24ms/step - loss: 43955.3750 - mse: 2038125824.0000 - mae: 43955.3750 - mape: 99.9976 - val_loss: 44800.1250 - val_mse: 2145197056.0000 - val_mae: 44800.1250 - val_mape: 99.9975\n",
            "Epoch 89/100\n",
            "1/1 [==============================] - 0s 25ms/step - loss: 43955.3711 - mse: 2038125824.0000 - mae: 43955.3711 - mape: 99.9976 - val_loss: 44800.1250 - val_mse: 2145197056.0000 - val_mae: 44800.1250 - val_mape: 99.9975\n",
            "Epoch 90/100\n",
            "1/1 [==============================] - 0s 28ms/step - loss: 43955.3750 - mse: 2038125824.0000 - mae: 43955.3750 - mape: 99.9976 - val_loss: 44800.1250 - val_mse: 2145197056.0000 - val_mae: 44800.1250 - val_mape: 99.9975\n",
            "Epoch 91/100\n",
            "1/1 [==============================] - 0s 26ms/step - loss: 43955.3750 - mse: 2038125824.0000 - mae: 43955.3750 - mape: 99.9976 - val_loss: 44800.1250 - val_mse: 2145197056.0000 - val_mae: 44800.1250 - val_mape: 99.9975\n",
            "Epoch 92/100\n",
            "1/1 [==============================] - 0s 26ms/step - loss: 43955.3750 - mse: 2038125824.0000 - mae: 43955.3750 - mape: 99.9976 - val_loss: 44800.1250 - val_mse: 2145197056.0000 - val_mae: 44800.1250 - val_mape: 99.9975\n",
            "Epoch 93/100\n",
            "1/1 [==============================] - 0s 31ms/step - loss: 43955.3750 - mse: 2038125824.0000 - mae: 43955.3750 - mape: 99.9976 - val_loss: 44800.1250 - val_mse: 2145197056.0000 - val_mae: 44800.1250 - val_mape: 99.9975\n",
            "Epoch 94/100\n",
            "1/1 [==============================] - 0s 30ms/step - loss: 43955.3711 - mse: 2038125952.0000 - mae: 43955.3711 - mape: 99.9976 - val_loss: 44800.1250 - val_mse: 2145197056.0000 - val_mae: 44800.1250 - val_mape: 99.9975\n",
            "Epoch 95/100\n",
            "1/1 [==============================] - 0s 29ms/step - loss: 43955.3711 - mse: 2038125824.0000 - mae: 43955.3711 - mape: 99.9976 - val_loss: 44800.1250 - val_mse: 2145197056.0000 - val_mae: 44800.1250 - val_mape: 99.9975\n",
            "Epoch 96/100\n",
            "1/1 [==============================] - 0s 23ms/step - loss: 43955.3750 - mse: 2038125568.0000 - mae: 43955.3750 - mape: 99.9976 - val_loss: 44800.1250 - val_mse: 2145197056.0000 - val_mae: 44800.1250 - val_mape: 99.9975\n",
            "Epoch 97/100\n",
            "1/1 [==============================] - 0s 29ms/step - loss: 43955.3711 - mse: 2038125824.0000 - mae: 43955.3711 - mape: 99.9976 - val_loss: 44800.1250 - val_mse: 2145197056.0000 - val_mae: 44800.1250 - val_mape: 99.9975\n",
            "Epoch 98/100\n",
            "1/1 [==============================] - 0s 25ms/step - loss: 43955.3711 - mse: 2038125824.0000 - mae: 43955.3711 - mape: 99.9976 - val_loss: 44800.1250 - val_mse: 2145197056.0000 - val_mae: 44800.1250 - val_mape: 99.9975\n",
            "Epoch 99/100\n",
            "1/1 [==============================] - 0s 25ms/step - loss: 43955.3750 - mse: 2038125824.0000 - mae: 43955.3750 - mape: 99.9976 - val_loss: 44800.1250 - val_mse: 2145197056.0000 - val_mae: 44800.1250 - val_mape: 99.9975\n",
            "Epoch 100/100\n",
            "1/1 [==============================] - 0s 31ms/step - loss: 43955.3711 - mse: 2038125824.0000 - mae: 43955.3711 - mape: 99.9976 - val_loss: 44800.1250 - val_mse: 2145197056.0000 - val_mae: 44800.1250 - val_mape: 99.9975\n"
          ],
          "name": "stdout"
        }
      ]
    },
    {
      "cell_type": "code",
      "metadata": {
        "id": "SK63nHfv3W3M"
      },
      "source": [
        "y_pred = classifier.predict(X_test)"
      ],
      "execution_count": 82,
      "outputs": []
    },
    {
      "cell_type": "code",
      "metadata": {
        "id": "R4cU2RJXyC7g",
        "outputId": "6b6f26ac-a83e-44da-ab95-11695589cd64",
        "colab": {
          "base_uri": "https://localhost:8080/"
        }
      },
      "source": [
        "classifier.evaluate(X_test, y_test)"
      ],
      "execution_count": 83,
      "outputs": [
        {
          "output_type": "stream",
          "text": [
            "5/5 [==============================] - 0s 2ms/step - loss: 44800.1250 - mse: 2145197056.0000 - mae: 44800.1250 - mape: 99.9975\n"
          ],
          "name": "stdout"
        },
        {
          "output_type": "execute_result",
          "data": {
            "text/plain": [
              "[44800.125, 2145197056.0, 44800.125, 99.9975357055664]"
            ]
          },
          "metadata": {
            "tags": []
          },
          "execution_count": 83
        }
      ]
    }
  ]
}